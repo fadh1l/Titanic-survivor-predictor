{
 "cells": [
  {
   "cell_type": "code",
   "execution_count": 1,
   "id": "ebe01ac0",
   "metadata": {
    "execution": {
     "iopub.execute_input": "2022-03-02T14:28:49.451725Z",
     "iopub.status.busy": "2022-03-02T14:28:49.450996Z",
     "iopub.status.idle": "2022-03-02T14:28:50.555855Z",
     "shell.execute_reply": "2022-03-02T14:28:50.555193Z",
     "shell.execute_reply.started": "2022-02-20T13:26:30.585527Z"
    },
    "papermill": {
     "duration": 1.157058,
     "end_time": "2022-03-02T14:28:50.555993",
     "exception": false,
     "start_time": "2022-03-02T14:28:49.398935",
     "status": "completed"
    },
    "tags": []
   },
   "outputs": [],
   "source": [
    "\n",
    "import numpy as np\n",
    "import pandas as pd \n",
    "import numpy as np\n",
    "import pickle as pkl\n",
    "\n",
    "import matplotlib.pyplot as plt\n",
    "%matplotlib inline\n",
    "\n",
    "import seaborn as sns\n",
    "sns.set()\n",
    "\n",
    "import warnings\n",
    "warnings.filterwarnings(\"ignore\") \n",
    "\n",
    "train = pd.read_csv('./train.csv')\n",
    "test = pd.read_csv('./test.csv')"
   ]
  },
  {
   "cell_type": "code",
   "execution_count": 2,
   "id": "18f2f7b7",
   "metadata": {
    "execution": {
     "iopub.execute_input": "2022-03-02T14:28:58.580835Z",
     "iopub.status.busy": "2022-03-02T14:28:58.580189Z",
     "iopub.status.idle": "2022-03-02T14:28:58.592218Z",
     "shell.execute_reply": "2022-03-02T14:28:58.592980Z",
     "shell.execute_reply.started": "2022-02-20T13:26:36.439037Z"
    },
    "papermill": {
     "duration": 0.07408,
     "end_time": "2022-03-02T14:28:58.593225",
     "exception": false,
     "start_time": "2022-03-02T14:28:58.519145",
     "status": "completed"
    },
    "tags": []
   },
   "outputs": [],
   "source": [
    "train_test_data = [train, test]"
   ]
  },
  {
   "cell_type": "markdown",
   "id": "83d03d6b",
   "metadata": {
    "papermill": {
     "duration": 0.058624,
     "end_time": "2022-03-02T14:28:58.828526",
     "exception": false,
     "start_time": "2022-03-02T14:28:58.769902",
     "status": "completed"
    },
    "tags": []
   },
   "source": [
    "1.Changing Sex in numerical values"
   ]
  },
  {
   "cell_type": "code",
   "execution_count": 3,
   "id": "8138a2d6",
   "metadata": {
    "execution": {
     "iopub.execute_input": "2022-03-02T14:28:58.948891Z",
     "iopub.status.busy": "2022-03-02T14:28:58.948107Z",
     "iopub.status.idle": "2022-03-02T14:28:58.954652Z",
     "shell.execute_reply": "2022-03-02T14:28:58.955172Z",
     "shell.execute_reply.started": "2022-02-20T13:26:36.457521Z"
    },
    "papermill": {
     "duration": 0.06795,
     "end_time": "2022-03-02T14:28:58.955368",
     "exception": false,
     "start_time": "2022-03-02T14:28:58.887418",
     "status": "completed"
    },
    "tags": []
   },
   "outputs": [],
   "source": [
    "for dataset in train_test_data:\n",
    "    dataset['Sex'] = dataset['Sex'].map( {'female': 1, 'male': 0} ).astype(int)"
   ]
  },
  {
   "cell_type": "markdown",
   "id": "fe6f2c37",
   "metadata": {
    "papermill": {
     "duration": 0.05947,
     "end_time": "2022-03-02T14:28:59.206190",
     "exception": false,
     "start_time": "2022-03-02T14:28:59.146720",
     "status": "completed"
    },
    "tags": []
   },
   "source": [
    "2.Fixing the missing values in embarked"
   ]
  },
  {
   "cell_type": "code",
   "execution_count": 4,
   "id": "06f22e0c",
   "metadata": {
    "execution": {
     "iopub.execute_input": "2022-03-02T14:28:59.328486Z",
     "iopub.status.busy": "2022-03-02T14:28:59.327873Z",
     "iopub.status.idle": "2022-03-02T14:28:59.332259Z",
     "shell.execute_reply": "2022-03-02T14:28:59.332735Z",
     "shell.execute_reply.started": "2022-02-20T13:26:36.488728Z"
    },
    "papermill": {
     "duration": 0.065791,
     "end_time": "2022-03-02T14:28:59.332894",
     "exception": false,
     "start_time": "2022-03-02T14:28:59.267103",
     "status": "completed"
    },
    "tags": []
   },
   "outputs": [],
   "source": [
    "for dataset in train_test_data:\n",
    "    dataset['Embarked'] = dataset['Embarked'].fillna('S')"
   ]
  },
  {
   "cell_type": "code",
   "execution_count": 5,
   "id": "15cf2df8",
   "metadata": {
    "execution": {
     "iopub.execute_input": "2022-03-02T14:28:59.600829Z",
     "iopub.status.busy": "2022-03-02T14:28:59.599910Z",
     "iopub.status.idle": "2022-03-02T14:28:59.604542Z",
     "shell.execute_reply": "2022-03-02T14:28:59.603911Z",
     "shell.execute_reply.started": "2022-02-20T13:26:36.519607Z"
    },
    "papermill": {
     "duration": 0.079709,
     "end_time": "2022-03-02T14:28:59.604691",
     "exception": false,
     "start_time": "2022-03-02T14:28:59.524982",
     "status": "completed"
    },
    "tags": []
   },
   "outputs": [],
   "source": [
    "for dataset in train_test_data:\n",
    "    dataset['Embarked'] = dataset['Embarked'].map( {'S': 0, 'C': 1, 'Q': 2} )"
   ]
  },
  {
   "cell_type": "markdown",
   "id": "99b7f58f",
   "metadata": {
    "papermill": {
     "duration": 0.059204,
     "end_time": "2022-03-02T14:28:59.725332",
     "exception": false,
     "start_time": "2022-03-02T14:28:59.666128",
     "status": "completed"
    },
    "tags": []
   },
   "source": [
    "3.Fixing Age"
   ]
  },
  {
   "cell_type": "code",
   "execution_count": 6,
   "id": "f0541b8e",
   "metadata": {
    "execution": {
     "iopub.execute_input": "2022-03-02T14:28:59.854009Z",
     "iopub.status.busy": "2022-03-02T14:28:59.853106Z",
     "iopub.status.idle": "2022-03-02T14:28:59.857762Z",
     "shell.execute_reply": "2022-03-02T14:28:59.857143Z",
     "shell.execute_reply.started": "2022-02-20T13:26:36.545673Z"
    },
    "papermill": {
     "duration": 0.072373,
     "end_time": "2022-03-02T14:28:59.857899",
     "exception": false,
     "start_time": "2022-03-02T14:28:59.785526",
     "status": "completed"
    },
    "tags": []
   },
   "outputs": [
    {
     "data": {
      "text/plain": [
       "0"
      ]
     },
     "execution_count": 6,
     "metadata": {},
     "output_type": "execute_result"
    }
   ],
   "source": [
    "for dataset in train_test_data:\n",
    "    dataset['Age'] = dataset['Age'].fillna(dataset['Age'].median())\n",
    "\n",
    "train.Age.isnull().sum()"
   ]
  },
  {
   "cell_type": "markdown",
   "id": "dc1c3485",
   "metadata": {
    "papermill": {
     "duration": 0.061118,
     "end_time": "2022-03-02T14:28:59.978741",
     "exception": false,
     "start_time": "2022-03-02T14:28:59.917623",
     "status": "completed"
    },
    "tags": []
   },
   "source": [
    "4. Adding the titles from names "
   ]
  },
  {
   "cell_type": "code",
   "execution_count": 7,
   "id": "abd353ff",
   "metadata": {
    "execution": {
     "iopub.execute_input": "2022-03-02T14:29:00.119008Z",
     "iopub.status.busy": "2022-03-02T14:29:00.118320Z",
     "iopub.status.idle": "2022-03-02T14:29:00.122157Z",
     "shell.execute_reply": "2022-03-02T14:29:00.121657Z",
     "shell.execute_reply.started": "2022-02-20T13:26:36.558822Z"
    },
    "papermill": {
     "duration": 0.084413,
     "end_time": "2022-03-02T14:29:00.122322",
     "exception": false,
     "start_time": "2022-03-02T14:29:00.037909",
     "status": "completed"
    },
    "tags": []
   },
   "outputs": [],
   "source": [
    "for dataset in train_test_data:\n",
    "    dataset['Title'] = dataset.Name.str.extract(' ([A-Za-z]+)\\.')"
   ]
  },
  {
   "cell_type": "code",
   "execution_count": 8,
   "id": "22a78d81",
   "metadata": {
    "execution": {
     "iopub.execute_input": "2022-03-02T14:29:00.433411Z",
     "iopub.status.busy": "2022-03-02T14:29:00.432319Z",
     "iopub.status.idle": "2022-03-02T14:29:00.447748Z",
     "shell.execute_reply": "2022-03-02T14:29:00.448212Z",
     "shell.execute_reply.started": "2022-02-20T13:26:36.613018Z"
    },
    "papermill": {
     "duration": 0.09319,
     "end_time": "2022-03-02T14:29:00.448413",
     "exception": false,
     "start_time": "2022-03-02T14:29:00.355223",
     "status": "completed"
    },
    "tags": []
   },
   "outputs": [],
   "source": [
    "for dataset in train_test_data:\n",
    "    dataset['Title'] = dataset['Title'].replace(['Lady', 'Countess','Capt', 'Col', \\\n",
    " \t'Don', 'Dr', 'Major', 'Rev', 'Sir', 'Jonkheer', 'Dona'], 'Other')\n",
    "\n",
    "    dataset['Title'] = dataset['Title'].replace('Mlle', 'Miss')\n",
    "    dataset['Title'] = dataset['Title'].replace('Ms', 'Miss')\n",
    "    dataset['Title'] = dataset['Title'].replace('Mme', 'Mrs')\n",
    "    \n",
    "train[['Title', 'Survived']].groupby(['Title']).mean()\n",
    "\n",
    "\n",
    "title_mapping = {\"Mr\": 1, \"Miss\": 2, \"Mrs\": 3, \"Master\": 4, \"Other\": 5}\n",
    "for dataset in train_test_data:\n",
    "    dataset['Title'] = dataset['Title'].map(title_mapping)\n",
    "    dataset['Title'] = dataset['Title'].fillna(0)"
   ]
  },
  {
   "cell_type": "markdown",
   "id": "ac283992",
   "metadata": {
    "papermill": {
     "duration": 0.062258,
     "end_time": "2022-03-02T14:29:00.714100",
     "exception": false,
     "start_time": "2022-03-02T14:29:00.651842",
     "status": "completed"
    },
    "tags": []
   },
   "source": [
    "5. Changing the age feature "
   ]
  },
  {
   "cell_type": "code",
   "execution_count": 9,
   "id": "2011a784",
   "metadata": {
    "execution": {
     "iopub.execute_input": "2022-03-02T14:29:00.844540Z",
     "iopub.status.busy": "2022-03-02T14:29:00.843866Z",
     "iopub.status.idle": "2022-03-02T14:29:00.861169Z",
     "shell.execute_reply": "2022-03-02T14:29:00.860600Z",
     "shell.execute_reply.started": "2022-02-20T13:26:36.654664Z"
    },
    "papermill": {
     "duration": 0.085406,
     "end_time": "2022-03-02T14:29:00.861320",
     "exception": false,
     "start_time": "2022-03-02T14:29:00.775914",
     "status": "completed"
    },
    "tags": []
   },
   "outputs": [],
   "source": [
    "#change the age in categorical format\n",
    "for dataset in train_test_data:\n",
    "    age_mean = dataset['Age'].mean()\n",
    "    age_deviation = dataset['Age'].std()\n",
    "    age_null_count = dataset['Age'].isnull().sum()\n",
    "\n",
    "    random_age = np.random.randint(age_mean - age_deviation, age_mean + age_deviation, size=age_null_count)\n",
    "    dataset['Age'][np.isnan(dataset['Age'])] = random_age\n",
    "    dataset['Age'] = dataset['Age'].astype(int)\n",
    "train['AgeRange'] = pd.cut(train['Age'], 5)\n"
   ]
  },
  {
   "cell_type": "code",
   "execution_count": 10,
   "id": "994c6be5",
   "metadata": {
    "execution": {
     "iopub.execute_input": "2022-03-02T14:29:01.126333Z",
     "iopub.status.busy": "2022-03-02T14:29:01.125326Z",
     "iopub.status.idle": "2022-03-02T14:29:01.138854Z",
     "shell.execute_reply": "2022-03-02T14:29:01.139353Z",
     "shell.execute_reply.started": "2022-02-20T13:26:36.698316Z"
    },
    "papermill": {
     "duration": 0.078682,
     "end_time": "2022-03-02T14:29:01.139563",
     "exception": false,
     "start_time": "2022-03-02T14:29:01.060881",
     "status": "completed"
    },
    "tags": []
   },
   "outputs": [],
   "source": [
    "for dataset in train_test_data:\n",
    "    dataset.loc[dataset['Age'] <= 16, 'Age'] = 0\n",
    "    dataset.loc[(dataset['Age'] > 16) & (dataset['Age'] <=32),'Age'] = 1\n",
    "    dataset.loc[(dataset['Age'] > 32) & (dataset['Age'] <=48),'Age'] = 2\n",
    "    dataset.loc[(dataset['Age'] > 48) & (dataset['Age'] <=64),'Age'] = 3\n",
    "    dataset.loc[(dataset['Age'] > 64,'Age')] = 4 \n"
   ]
  },
  {
   "cell_type": "code",
   "execution_count": 11,
   "id": "adfb1e98",
   "metadata": {
    "execution": {
     "iopub.execute_input": "2022-03-02T14:29:01.412447Z",
     "iopub.status.busy": "2022-03-02T14:29:01.411321Z",
     "iopub.status.idle": "2022-03-02T14:29:01.414890Z",
     "shell.execute_reply": "2022-03-02T14:29:01.415336Z",
     "shell.execute_reply.started": "2022-02-20T13:26:36.737563Z"
    },
    "papermill": {
     "duration": 0.073453,
     "end_time": "2022-03-02T14:29:01.415541",
     "exception": false,
     "start_time": "2022-03-02T14:29:01.342088",
     "status": "completed"
    },
    "tags": []
   },
   "outputs": [],
   "source": [
    "features_drop = ['Name', 'SibSp', 'Parch', 'Ticket', 'Cabin','Fare']\n",
    "train = train.drop(features_drop, axis=1)\n",
    "test = test.drop(features_drop, axis=1)\n",
    "train = train.drop(['PassengerId','AgeRange'], axis=1)"
   ]
  },
  {
   "cell_type": "markdown",
   "id": "5ab9ec9b",
   "metadata": {
    "papermill": {
     "duration": 0.063654,
     "end_time": "2022-03-02T14:29:01.832023",
     "exception": false,
     "start_time": "2022-03-02T14:29:01.768369",
     "status": "completed"
    },
    "tags": []
   },
   "source": [
    "## Prediction"
   ]
  },
  {
   "cell_type": "code",
   "execution_count": 12,
   "id": "189eff2d",
   "metadata": {
    "execution": {
     "iopub.execute_input": "2022-03-02T14:29:01.971465Z",
     "iopub.status.busy": "2022-03-02T14:29:01.970094Z",
     "iopub.status.idle": "2022-03-02T14:29:01.973091Z",
     "shell.execute_reply": "2022-03-02T14:29:01.973682Z",
     "shell.execute_reply.started": "2022-02-20T13:26:36.779512Z"
    },
    "papermill": {
     "duration": 0.076935,
     "end_time": "2022-03-02T14:29:01.973941",
     "exception": false,
     "start_time": "2022-03-02T14:29:01.897006",
     "status": "completed"
    },
    "tags": []
   },
   "outputs": [],
   "source": [
    "X_train = train.drop('Survived', axis=1)\n",
    "y_train = train['Survived']\n",
    "X_test  = test.drop('PassengerId', axis=1).copy()\n"
   ]
  },
  {
   "cell_type": "code",
   "execution_count": 15,
   "id": "cf678a3a",
   "metadata": {},
   "outputs": [
    {
     "data": {
      "text/html": [
       "<div>\n",
       "<style scoped>\n",
       "    .dataframe tbody tr th:only-of-type {\n",
       "        vertical-align: middle;\n",
       "    }\n",
       "\n",
       "    .dataframe tbody tr th {\n",
       "        vertical-align: top;\n",
       "    }\n",
       "\n",
       "    .dataframe thead th {\n",
       "        text-align: right;\n",
       "    }\n",
       "</style>\n",
       "<table border=\"1\" class=\"dataframe\">\n",
       "  <thead>\n",
       "    <tr style=\"text-align: right;\">\n",
       "      <th></th>\n",
       "      <th>Survived</th>\n",
       "      <th>Pclass</th>\n",
       "      <th>Sex</th>\n",
       "      <th>Age</th>\n",
       "      <th>Embarked</th>\n",
       "      <th>Title</th>\n",
       "    </tr>\n",
       "  </thead>\n",
       "  <tbody>\n",
       "    <tr>\n",
       "      <th>0</th>\n",
       "      <td>0</td>\n",
       "      <td>3</td>\n",
       "      <td>0</td>\n",
       "      <td>1</td>\n",
       "      <td>0</td>\n",
       "      <td>1</td>\n",
       "    </tr>\n",
       "    <tr>\n",
       "      <th>1</th>\n",
       "      <td>1</td>\n",
       "      <td>1</td>\n",
       "      <td>1</td>\n",
       "      <td>2</td>\n",
       "      <td>1</td>\n",
       "      <td>3</td>\n",
       "    </tr>\n",
       "    <tr>\n",
       "      <th>2</th>\n",
       "      <td>1</td>\n",
       "      <td>3</td>\n",
       "      <td>1</td>\n",
       "      <td>1</td>\n",
       "      <td>0</td>\n",
       "      <td>2</td>\n",
       "    </tr>\n",
       "    <tr>\n",
       "      <th>3</th>\n",
       "      <td>1</td>\n",
       "      <td>1</td>\n",
       "      <td>1</td>\n",
       "      <td>2</td>\n",
       "      <td>0</td>\n",
       "      <td>3</td>\n",
       "    </tr>\n",
       "    <tr>\n",
       "      <th>4</th>\n",
       "      <td>0</td>\n",
       "      <td>3</td>\n",
       "      <td>0</td>\n",
       "      <td>2</td>\n",
       "      <td>0</td>\n",
       "      <td>1</td>\n",
       "    </tr>\n",
       "  </tbody>\n",
       "</table>\n",
       "</div>"
      ],
      "text/plain": [
       "   Survived  Pclass  Sex  Age  Embarked  Title\n",
       "0         0       3    0    1         0      1\n",
       "1         1       1    1    2         1      3\n",
       "2         1       3    1    1         0      2\n",
       "3         1       1    1    2         0      3\n",
       "4         0       3    0    2         0      1"
      ]
     },
     "execution_count": 15,
     "metadata": {},
     "output_type": "execute_result"
    }
   ],
   "source": [
    "train.head()"
   ]
  },
  {
   "cell_type": "code",
   "execution_count": 14,
   "id": "93dadcb9",
   "metadata": {
    "execution": {
     "iopub.execute_input": "2022-03-02T14:29:02.105217Z",
     "iopub.status.busy": "2022-03-02T14:29:02.104571Z",
     "iopub.status.idle": "2022-03-02T14:29:02.696247Z",
     "shell.execute_reply": "2022-03-02T14:29:02.696735Z",
     "shell.execute_reply.started": "2022-02-20T13:26:36.787524Z"
    },
    "papermill": {
     "duration": 0.658492,
     "end_time": "2022-03-02T14:29:02.696910",
     "exception": false,
     "start_time": "2022-03-02T14:29:02.038418",
     "status": "completed"
    },
    "tags": []
   },
   "outputs": [],
   "source": [
    "from sklearn.ensemble import RandomForestClassifier\n",
    "\n",
    "clf = RandomForestClassifier(n_estimators=100,max_depth=5,random_state=1)\n",
    "clf = clf.fit(X_train, y_train)\n",
    "\n",
    "pkl.dump(clf, open('model.pkl','wb'))"
   ]
  }
 ],
 "metadata": {
  "kernelspec": {
   "display_name": "Python 3",
   "language": "python",
   "name": "python3"
  },
  "language_info": {
   "codemirror_mode": {
    "name": "ipython",
    "version": 3
   },
   "file_extension": ".py",
   "mimetype": "text/x-python",
   "name": "python",
   "nbconvert_exporter": "python",
   "pygments_lexer": "ipython3",
   "version": "3.9.7"
  },
  "papermill": {
   "default_parameters": {},
   "duration": 23.471326,
   "end_time": "2022-03-02T14:29:03.710226",
   "environment_variables": {},
   "exception": null,
   "input_path": "__notebook__.ipynb",
   "output_path": "__notebook__.ipynb",
   "parameters": {},
   "start_time": "2022-03-02T14:28:40.238900",
   "version": "2.3.3"
  }
 },
 "nbformat": 4,
 "nbformat_minor": 5
}
